{
 "cells": [
  {
   "cell_type": "code",
   "execution_count": 1,
   "id": "f7e71268-f17a-4041-a9d3-1e6b9829de4c",
   "metadata": {},
   "outputs": [],
   "source": [
    "# import libraries\n",
    "\n",
    "from bs4 import BeautifulSoup\n",
    "import requests\n",
    "import time\n",
    "import datetime\n",
    "import smtplib"
   ]
  },
  {
   "cell_type": "code",
   "execution_count": 80,
   "id": "83009bfe-7e7e-4ac8-b852-bd34a368b3a5",
   "metadata": {},
   "outputs": [
    {
     "name": "stdout",
     "output_type": "stream",
     "text": [
      "\n",
      "                    Never Forget Pluto Shirt. Retro Style Funny Space, Science T-Shirt\n",
      "                   \n",
      "\n",
      "\n",
      "\n",
      "\n",
      "                    $19.99\n",
      "                   \n",
      "\n",
      "\n",
      "\n",
      "\n",
      "\n",
      "                      $\n",
      "                     \n",
      "\n",
      "                      19\n",
      "                      \n",
      "                       .\n",
      "                      \n",
      "\n",
      "\n",
      "                      99\n",
      "                     \n",
      "\n",
      "\n",
      "\n",
      "\n",
      "\n",
      "\n",
      "\n",
      "\n",
      "\n",
      "\n",
      "\n",
      "\n"
     ]
    }
   ],
   "source": [
    "# Connect to Website and pull in data\n",
    "\n",
    "URL = 'https://www.amazon.com/Never-Forget-Shirt-Science-T-Shirt/dp/B07WQ5QB83/ref=sr_1_16?crid=MJ75HSDLOK9L&customId=B0752XJYNL&customizationToken=MC_Assembly_1%23B0752XJYNL&dib=eyJ2IjoiMSJ9.o60EHLqu5DeAmm2A0l89BOEjNPx043zUdNZz3Fw_b1IpqJ-Gzvpx71l5pAaeut8ykTnT6-iu3UQRrdHhxynO9t7MB0IvaHx7vvyNuCyaGbfTlGiJHuOpm_rxi_np0_kf0RvNzEQmelYTZ4HVNHU_AuLQKMeSPfXTQ5cYZmQI60qpfr3SiNetyFnQyC9ZfSZDDYG_JWCeY8WV1OwCfP1olULAV3r1uiGu__y4Attao18uZBci1HJVq7IoESt4I1K5cpLuutLIrjNZ7UFLlD5UMykmOyEWmjbrHKLJ_qa1kHg.SyczVKDNOVuZvvpjKbSMM7G9p3hlQON2yE4bWDpPKy0&dib_tag=se&keywords=tshirts+shirts+for+men+graphic&qid=1710273606&sprefix=tshirts+shirts+for+men+%2Caps%2C126&sr=8-16'\n",
    "\n",
    "headers = {\"User-Agent\": \"Mozilla/5.0 (Windows NT 10.0; Win64; x64) AppleWebKit/537.36 (KHTML, like Gecko) Chrome/122.0.0.0 Safari/537.36 Edg/122.0.0.0\",\"Accept-Encoding\":\"gzip, deflate\",\"Accept\": \"text/html,application/xhtml+xml,application/xml;q=0.9,*/*;q=0.8\", \"DNT\":\"1\",\"Connection\":\"close\",\"Upgrade-Insecure-Requests\":\"1\"}\n",
    "\n",
    "page = requests.get(URL, headers=headers)\n",
    "\n",
    "soup1 = BeautifulSoup(page.content, \"html.parser\")\n",
    "\n",
    "soup2 = BeautifulSoup(soup1.prettify(), \"html.parser\")\n",
    "\n",
    "title = soup2.find(id = 'productTitle').get_text()\n",
    "\n",
    "price = soup2.find(id = 'corePriceDisplay_desktop_feature_div').get_text()\n",
    "\n",
    "\n",
    "# print title and price\n",
    "\n",
    "print (title)\n",
    "print (price)\n",
    "\n"
   ]
  },
  {
   "cell_type": "code",
   "execution_count": 48,
   "id": "fa601dbb-a1c2-4abc-a795-63fdc549800a",
   "metadata": {},
   "outputs": [
    {
     "name": "stdout",
     "output_type": "stream",
     "text": [
      "Never Forget Pluto Shirt. Retro Style Funny Space, Science T-Shirt\n"
     ]
    }
   ],
   "source": [
    "title = title.strip()\n",
    "print(title)\n"
   ]
  },
  {
   "cell_type": "code",
   "execution_count": 44,
   "id": "a2e8fb8a-f406-4624-8d5b-cde8b4bbe284",
   "metadata": {},
   "outputs": [
    {
     "name": "stdout",
     "output_type": "stream",
     "text": [
      "19.99\n"
     ]
    }
   ],
   "source": [
    "price = price.strip()[1:6]\n",
    "print(price)\n"
   ]
  },
  {
   "cell_type": "code",
   "execution_count": 81,
   "id": "2abd73ac-9c0d-480d-a15c-283c1b48acd7",
   "metadata": {},
   "outputs": [
    {
     "name": "stdout",
     "output_type": "stream",
     "text": [
      "2024-03-12\n"
     ]
    }
   ],
   "source": [
    "today = datetime.date.today()\n",
    "\n",
    "print(today)\n"
   ]
  },
  {
   "cell_type": "code",
   "execution_count": 82,
   "id": "fb6016e5-ca19-47d2-b774-72091eb6e038",
   "metadata": {},
   "outputs": [],
   "source": [
    "import csv\n",
    "\n",
    "header = ['Title','Price','Date']\n",
    "data = [title,price,today]\n",
    "\n",
    "with open('AmazonWebScappingDataset.csv', 'w', newline = '', encoding = 'UTF8') as f:\n",
    "    writer = csv.writer(f)\n",
    "    writer.writerow(header)\n",
    "    writer.writerow(data)\n",
    "    "
   ]
  },
  {
   "cell_type": "code",
   "execution_count": 73,
   "id": "c2bb983b-7d2a-4697-b749-f78b8da00edc",
   "metadata": {},
   "outputs": [
    {
     "name": "stdout",
     "output_type": "stream",
     "text": [
      "                                               Title  Price        Date\n",
      "0  Never Forget Pluto Shirt. Retro Style Funny Sp...  19.99  2024-03-12\n",
      "1  Never Forget Pluto Shirt. Retro Style Funny Sp...  19.99  2024-03-12\n",
      "2  Never Forget Pluto Shirt. Retro Style Funny Sp...  19.99  2024-03-12\n",
      "3  Never Forget Pluto Shirt. Retro Style Funny Sp...  19.99  2024-03-12\n",
      "4  Never Forget Pluto Shirt. Retro Style Funny Sp...  19.99  2024-03-12\n"
     ]
    }
   ],
   "source": [
    "import pandas as pd\n",
    "\n",
    "df = pd.read_csv(r'C:\\Users\\tridh\\Amazon Web Scrapping Project\\AmazonWebScappingDataset.csv')\n",
    "\n",
    "print(df)\n"
   ]
  },
  {
   "cell_type": "code",
   "execution_count": 83,
   "id": "8eb88382-e4db-406f-a5dc-d92f4f841ebc",
   "metadata": {},
   "outputs": [],
   "source": [
    "#now we appending the data to the csv\n",
    "\n",
    "with open('AmazonWebScappingDataset.csv', 'a+', newline = '', encoding = 'UTF8') as f:\n",
    "    writer = csv.writer(f)\n",
    "    writer.writerow(data)\n",
    "    "
   ]
  },
  {
   "cell_type": "code",
   "execution_count": null,
   "id": "f7eb1660-b049-4b0a-9ed3-c6e529f0697c",
   "metadata": {},
   "outputs": [],
   "source": [
    "def check_price():\n",
    "    URL = 'https://www.amazon.com/Never-Forget-Shirt-Science-T-Shirt/dp/B07WQ5QB83/ref=sr_1_16?crid=MJ75HSDLOK9L&customId=B0752XJYNL&customizationToken=MC_Assembly_1%23B0752XJYNL&dib=eyJ2IjoiMSJ9.o60EHLqu5DeAmm2A0l89BOEjNPx043zUdNZz3Fw_b1IpqJ-Gzvpx71l5pAaeut8ykTnT6-iu3UQRrdHhxynO9t7MB0IvaHx7vvyNuCyaGbfTlGiJHuOpm_rxi_np0_kf0RvNzEQmelYTZ4HVNHU_AuLQKMeSPfXTQ5cYZmQI60qpfr3SiNetyFnQyC9ZfSZDDYG_JWCeY8WV1OwCfP1olULAV3r1uiGu__y4Attao18uZBci1HJVq7IoESt4I1K5cpLuutLIrjNZ7UFLlD5UMykmOyEWmjbrHKLJ_qa1kHg.SyczVKDNOVuZvvpjKbSMM7G9p3hlQON2yE4bWDpPKy0&dib_tag=se&keywords=tshirts+shirts+for+men+graphic&qid=1710273606&sprefix=tshirts+shirts+for+men+%2Caps%2C126&sr=8-16'\n",
    "\n",
    "    headers = {\"User-Agent\": \"Mozilla/5.0 (Windows NT 10.0; Win64; x64) AppleWebKit/537.36 (KHTML, like Gecko) Chrome/122.0.0.0 Safari/537.36 Edg/122.0.0.0\",\"Accept-Encoding\":\"gzip, deflate\",\"Accept\": \"text/html,application/xhtml+xml,application/xml;q=0.9,*/*;q=0.8\", \"DNT\":\"1\",\"Connection\":\"close\",\"Upgrade-Insecure-Requests\":\"1\"}\n",
    "\n",
    "    page = requests.get(URL, headers=headers)\n",
    "\n",
    "    soup1 = BeautifulSoup(page.content, \"html.parser\")\n",
    "\n",
    "    soup2 = BeautifulSoup(soup1.prettify(), \"html.parser\")\n",
    "\n",
    "    title = soup2.find(id = 'productTitle').get_text()\n",
    "\n",
    "    price = soup2.find(id = 'corePriceDisplay_desktop_feature_div').get_text()\n",
    "\n",
    "    title = title.strip()\n",
    "\n",
    "    price = price.strip()[1:6]\n",
    "\n",
    "    today = datetime.date.today()\n",
    "\n",
    "    import csv\n",
    "\n",
    "    header = ['Title','Price','Date']\n",
    "    \n",
    "    data = [title,price,today]\n",
    "\n",
    "    with open('AmazonWebScappingDataset.csv', 'a+', newline = '', encoding = 'UTF8') as f:\n",
    "        writer = csv.writer(f)\n",
    "        writer.writerow(data)\n",
    "\n",
    "    if(price<10):\n",
    "        send_email()\n",
    "        "
   ]
  },
  {
   "cell_type": "code",
   "execution_count": null,
   "id": "4c60b3af-148b-4d9f-b15d-8cbeefc48861",
   "metadata": {},
   "outputs": [],
   "source": [
    "#while(True):\n",
    "    #check_price()\n",
    "    #time.sleep(6600)\n"
   ]
  },
  {
   "cell_type": "code",
   "execution_count": null,
   "id": "dc4b6828-c4f8-4613-9e16-ed5ad4812e87",
   "metadata": {},
   "outputs": [],
   "source": [
    "import pandas as pd\n",
    "\n",
    "df = pd.read_csv(r'C:\\Users\\tridh\\Amazon Web Scrapping Project\\AmazonWebScappingDataset.csv')\n",
    "\n",
    "print(df)\n"
   ]
  },
  {
   "cell_type": "code",
   "execution_count": null,
   "id": "9fab8c74-9d5a-4101-9b4e-3fd0d54c1010",
   "metadata": {},
   "outputs": [],
   "source": [
    "# sending email if the price hits below 10\n",
    "\n",
    "def send_mail():\n",
    "    server = smtplib.SMTP_SSL('smtp.gmail.com',465)\n",
    "    server.ehlo()\n",
    "    #server.starttls()\n",
    "    server.ehlo()\n",
    "    server.login('mtridha20@gmail.com','xxxxxxxxxxxxxx')\n",
    "    \n",
    "    subject = \"The Shirt you want is below $10! Now is your chance to buy!\"\n",
    "    body = \"Tridha, This is the moment we have been waiting for. Now is your chance to pick up the shirt of your dreams. Don't mess it up! Link here: https://www.amazon.com/Never-Forget-Shirt-Science-T-Shirt/dp/B07WQ5QB83/ref=sr_1_16?crid=MJ75HSDLOK9L&customId=B07535Y9T6&customizationToken=MC_Assembly_1%23B07535Y9T6&dib=eyJ2IjoiMSJ9.o60EHLqu5DeAmm2A0l89BOEjNPx043zUdNZz3Fw_b1IpqJ-Gzvpx71l5pAaeut8ykTnT6-iu3UQRrdHhxynO9t7MB0IvaHx7vvyNuCyaGbfTlGiJHuOpm_rxi_np0_kf0RvNzEQmelYTZ4HVNHU_AuLQKMeSPfXTQ5cYZmQI60qpfr3SiNetyFnQyC9ZfSZDDYG_JWCeY8WV1OwCfP1olULAV3r1uiGu__y4Attao18uZBci1HJVq7IoESt4I1K5cpLuutLIrjNZ7UFLlD5UMykmOyEWmjbrHKLJ_qa1kHg.SyczVKDNOVuZvvpjKbSMM7G9p3hlQON2yE4bWDpPKy0&dib_tag=se&keywords=tshirts%2Bshirts%2Bfor%2Bmen%2Bgraphic&qid=1710273606&sprefix=tshirts%2Bshirts%2Bfor%2Bmen%2B%2Caps%2C126&sr=8-16&th=1&psc=1 \"\n",
    "   \n",
    "    msg = f\"Subject: {subject}\\n\\n{body}\"\n",
    "    \n",
    "    server.sendmail(\n",
    "        'tridha.mukherjee@outlook.com',\n",
    "        msg\n",
    "     \n",
    "    )\n",
    "    "
   ]
  },
  {
   "cell_type": "code",
   "execution_count": null,
   "id": "276d5f49-30c3-476f-8a84-bbadda4c3a8b",
   "metadata": {},
   "outputs": [],
   "source": []
  }
 ],
 "metadata": {
  "kernelspec": {
   "display_name": "Python 3 (ipykernel)",
   "language": "python",
   "name": "python3"
  },
  "language_info": {
   "codemirror_mode": {
    "name": "ipython",
    "version": 3
   },
   "file_extension": ".py",
   "mimetype": "text/x-python",
   "name": "python",
   "nbconvert_exporter": "python",
   "pygments_lexer": "ipython3",
   "version": "3.11.7"
  }
 },
 "nbformat": 4,
 "nbformat_minor": 5
}
